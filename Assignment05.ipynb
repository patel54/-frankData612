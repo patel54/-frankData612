{
  "nbformat": 4,
  "nbformat_minor": 0,
  "metadata": {
    "colab": {
      "name": "Assignment05.ipynb",
      "provenance": [],
      "collapsed_sections": [],
      "include_colab_link": true
    },
    "kernelspec": {
      "name": "python3",
      "display_name": "Python 3"
    }
  },
  "cells": [
    {
      "cell_type": "markdown",
      "metadata": {
        "id": "view-in-github",
        "colab_type": "text"
      },
      "source": [
        "<a href=\"https://colab.research.google.com/github/patel54/-frankData612/blob/main/Assignment05.ipynb\" target=\"_parent\"><img src=\"https://colab.research.google.com/assets/colab-badge.svg\" alt=\"Open In Colab\"/></a>"
      ]
    },
    {
      "cell_type": "markdown",
      "metadata": {
        "id": "PVPwSURJLrm5"
      },
      "source": [
        "# Assignment for Week 5      \n",
        "(Chapter 6 & 7)"
      ]
    },
    {
      "cell_type": "markdown",
      "metadata": {
        "id": "oxOFlqNrMDvt"
      },
      "source": [
        "## Purpose:\n",
        "This assignment is intended to help you do the following:       \n",
        "1.\tDifferentiate between categorical and non-categorical variables\n",
        "2.\tConvert variables from one type to another\n",
        "3.\tFamiliarize with strings\n"
      ]
    },
    {
      "cell_type": "markdown",
      "metadata": {
        "id": "rzBeh3W4MEzh"
      },
      "source": [
        "## Action Items:      \n",
        "•\tConvert data\n",
        "1. Work on your selected data set and covert a column of non-categorical type into a categorical type. \n",
        "2. Convert another column into a string type. \n",
        "3. Post your work on GitHub\n",
        "4. Add a README file\n"
      ]
    }
  ]
}