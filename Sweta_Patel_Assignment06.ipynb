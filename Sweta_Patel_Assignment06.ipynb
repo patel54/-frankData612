{
  "nbformat": 4,
  "nbformat_minor": 0,
  "metadata": {
    "colab": {
      "name": "Sweta_Patel_Assignment06.ipynb",
      "provenance": [],
      "collapsed_sections": [],
      "include_colab_link": true
    },
    "kernelspec": {
      "name": "python3",
      "display_name": "Python 3"
    }
  },
  "cells": [
    {
      "cell_type": "markdown",
      "metadata": {
        "id": "view-in-github",
        "colab_type": "text"
      },
      "source": [
        "<a href=\"https://colab.research.google.com/github/patel54/-frankData612/blob/main/Sweta_Patel_Assignment06.ipynb\" target=\"_parent\"><img src=\"https://colab.research.google.com/assets/colab-badge.svg\" alt=\"Open In Colab\"/></a>"
      ]
    },
    {
      "cell_type": "markdown",
      "metadata": {
        "id": "itDxvmaoOgOI"
      },
      "source": [
        "# Assignment for Week 6      \n",
        "(Chapter 8 & 9)"
      ]
    },
    {
      "cell_type": "markdown",
      "metadata": {
        "id": "FW3jd6aMOhED"
      },
      "source": [
        "## Purpose:     \n",
        "This assignment is intended to help you do the following:     \n",
        "1.\tAdvance your knowledge on working with strings\n",
        "2.\tFamiliarize with regular expression\n",
        "3.\tUse of functions and .apply()\n"
      ]
    },
    {
      "cell_type": "markdown",
      "metadata": {
        "id": "TzDuUf45Ow3f"
      },
      "source": [
        "## Action Items:       \n",
        "•\tWorking with strings.\n",
        "1. Clean a column on your data set using \n",
        "regular expression methods.      \n",
        "2. Store the cleaned column into another column of your data set and call it “your_col_name_cleaned”.     \n",
        "\n",
        "  *Another data set will be provided if your data set is not appropriate to apply regular expression methods.        \n",
        "\n",
        "•\tUse of .apply() \n",
        "\n",
        "1.   Create a function that returns the mean, sum, mode, median, and range (separately)      \n",
        "2.   Run the function into your chosen data set using the .apply() method.     \n",
        "3.   Post your work on GitHub\n"
      ]
    },
    {
      "cell_type": "code",
      "metadata": {
        "colab": {
          "base_uri": "https://localhost:8080/",
          "height": 341
        },
        "id": "8_BTkc7R7k7x",
        "outputId": "c0ac39c3-f680-4f56-c2b0-9928f8be1239"
      },
      "source": [
        "import pandas as pd\n",
        "\n",
        "df = pd.read_csv('https://raw.githubusercontent.com/frankData612/data_612/master/State_Drug_Utilization_Data_2010/State_Drug_Utilization_Data_2010.csv')\n",
        "\n",
        "df.head()"
      ],
      "execution_count": 1,
      "outputs": [
        {
          "output_type": "execute_result",
          "data": {
            "text/html": [
              "<div>\n",
              "<style scoped>\n",
              "    .dataframe tbody tr th:only-of-type {\n",
              "        vertical-align: middle;\n",
              "    }\n",
              "\n",
              "    .dataframe tbody tr th {\n",
              "        vertical-align: top;\n",
              "    }\n",
              "\n",
              "    .dataframe thead th {\n",
              "        text-align: right;\n",
              "    }\n",
              "</style>\n",
              "<table border=\"1\" class=\"dataframe\">\n",
              "  <thead>\n",
              "    <tr style=\"text-align: right;\">\n",
              "      <th></th>\n",
              "      <th>Unnamed: 0</th>\n",
              "      <th>Utilization Type</th>\n",
              "      <th>State</th>\n",
              "      <th>Labeler Code</th>\n",
              "      <th>Product Code</th>\n",
              "      <th>Package Size</th>\n",
              "      <th>Year</th>\n",
              "      <th>Quarter</th>\n",
              "      <th>Product Name</th>\n",
              "      <th>Units Reimbursed</th>\n",
              "      <th>Suppression Used</th>\n",
              "      <th>Number of Prescriptions</th>\n",
              "      <th>Total Amount Reimbursed</th>\n",
              "      <th>Medicaid Amount Reimbursed</th>\n",
              "      <th>Non Medicaid Amount Reimbursed</th>\n",
              "      <th>Quarter Begin</th>\n",
              "      <th>Quarter Begin Date</th>\n",
              "      <th>Latitude</th>\n",
              "      <th>Longitude</th>\n",
              "      <th>Location</th>\n",
              "      <th>NDC</th>\n",
              "    </tr>\n",
              "  </thead>\n",
              "  <tbody>\n",
              "    <tr>\n",
              "      <th>0</th>\n",
              "      <td>128037</td>\n",
              "      <td>MCOU</td>\n",
              "      <td>MA</td>\n",
              "      <td>37205</td>\n",
              "      <td>137</td>\n",
              "      <td>5</td>\n",
              "      <td>2010</td>\n",
              "      <td>4</td>\n",
              "      <td>ARTIFICIAL</td>\n",
              "      <td>15.000</td>\n",
              "      <td>False</td>\n",
              "      <td>1</td>\n",
              "      <td>4.08</td>\n",
              "      <td>4.08</td>\n",
              "      <td>0.0</td>\n",
              "      <td>10/1</td>\n",
              "      <td>10/01/2010</td>\n",
              "      <td>31.1801</td>\n",
              "      <td>-91.8749</td>\n",
              "      <td>(31.1801, -91.8749)</td>\n",
              "      <td>37205013705</td>\n",
              "    </tr>\n",
              "    <tr>\n",
              "      <th>1</th>\n",
              "      <td>491755</td>\n",
              "      <td>FFSU</td>\n",
              "      <td>FL</td>\n",
              "      <td>62756</td>\n",
              "      <td>763</td>\n",
              "      <td>88</td>\n",
              "      <td>2010</td>\n",
              "      <td>1</td>\n",
              "      <td>TORSEMIDE</td>\n",
              "      <td>255.000</td>\n",
              "      <td>False</td>\n",
              "      <td>8</td>\n",
              "      <td>103.33</td>\n",
              "      <td>103.33</td>\n",
              "      <td>0.0</td>\n",
              "      <td>1/1</td>\n",
              "      <td>01/01/2010</td>\n",
              "      <td>39.3498</td>\n",
              "      <td>-75.5148</td>\n",
              "      <td>(39.3498, -75.5148)</td>\n",
              "      <td>62756076388</td>\n",
              "    </tr>\n",
              "    <tr>\n",
              "      <th>2</th>\n",
              "      <td>2568076</td>\n",
              "      <td>FFSU</td>\n",
              "      <td>UT</td>\n",
              "      <td>46987</td>\n",
              "      <td>323</td>\n",
              "      <td>11</td>\n",
              "      <td>2010</td>\n",
              "      <td>2</td>\n",
              "      <td>Kadian Ora</td>\n",
              "      <td>120.000</td>\n",
              "      <td>False</td>\n",
              "      <td>2</td>\n",
              "      <td>905.24</td>\n",
              "      <td>905.24</td>\n",
              "      <td>0.0</td>\n",
              "      <td>4/1</td>\n",
              "      <td>04/01/2010</td>\n",
              "      <td>44.2853</td>\n",
              "      <td>-99.4632</td>\n",
              "      <td>(44.2853, -99.4632)</td>\n",
              "      <td>46987032311</td>\n",
              "    </tr>\n",
              "    <tr>\n",
              "      <th>3</th>\n",
              "      <td>491263</td>\n",
              "      <td>FFSU</td>\n",
              "      <td>MN</td>\n",
              "      <td>781</td>\n",
              "      <td>5185</td>\n",
              "      <td>1</td>\n",
              "      <td>2010</td>\n",
              "      <td>4</td>\n",
              "      <td>LEVOTHYROX</td>\n",
              "      <td>1114.000</td>\n",
              "      <td>False</td>\n",
              "      <td>34</td>\n",
              "      <td>312.22</td>\n",
              "      <td>306.22</td>\n",
              "      <td>6.0</td>\n",
              "      <td>10/1</td>\n",
              "      <td>10/01/2010</td>\n",
              "      <td>43.3504</td>\n",
              "      <td>-84.5603</td>\n",
              "      <td>(43.3504, -84.5603)</td>\n",
              "      <td>781518501</td>\n",
              "    </tr>\n",
              "    <tr>\n",
              "      <th>4</th>\n",
              "      <td>836489</td>\n",
              "      <td>FFSU</td>\n",
              "      <td>XX</td>\n",
              "      <td>51552</td>\n",
              "      <td>809</td>\n",
              "      <td>6</td>\n",
              "      <td>2010</td>\n",
              "      <td>2</td>\n",
              "      <td>COLD CREAM</td>\n",
              "      <td>226.089</td>\n",
              "      <td>False</td>\n",
              "      <td>7</td>\n",
              "      <td>52.87</td>\n",
              "      <td>52.87</td>\n",
              "      <td>0.0</td>\n",
              "      <td>4/1</td>\n",
              "      <td>04/01/2010</td>\n",
              "      <td>NaN</td>\n",
              "      <td>NaN</td>\n",
              "      <td>NaN</td>\n",
              "      <td>51552080906</td>\n",
              "    </tr>\n",
              "  </tbody>\n",
              "</table>\n",
              "</div>"
            ],
            "text/plain": [
              "   Unnamed: 0 Utilization Type  ...             Location          NDC\n",
              "0      128037             MCOU  ...  (31.1801, -91.8749)  37205013705\n",
              "1      491755             FFSU  ...  (39.3498, -75.5148)  62756076388\n",
              "2     2568076             FFSU  ...  (44.2853, -99.4632)  46987032311\n",
              "3      491263             FFSU  ...  (43.3504, -84.5603)    781518501\n",
              "4      836489             FFSU  ...                  NaN  51552080906\n",
              "\n",
              "[5 rows x 21 columns]"
            ]
          },
          "metadata": {
            "tags": []
          },
          "execution_count": 1
        }
      ]
    },
    {
      "cell_type": "code",
      "metadata": {
        "id": "ZuSjbCOSD3vX"
      },
      "source": [
        "import regex\n",
        "\n",
        "p = regex.compile('\\w+\\s+\\w+')"
      ],
      "execution_count": null,
      "outputs": []
    },
    {
      "cell_type": "code",
      "metadata": {
        "id": "u5h8tJduD0c7"
      },
      "source": [
        "def get_name(s):\n",
        "\n",
        "     return p.match(s).group()\n",
        "\n",
        "\n",
        "docs['name_func'] = docs[0].apply(get_name)\n",
        "\n",
        "print(docs)"
      ],
      "execution_count": null,
      "outputs": []
    },
    {
      "cell_type": "code",
      "metadata": {
        "id": "TKta6xlL78Qv"
      },
      "source": [
        "import re\n",
        "\n",
        "NCD_your_col_name_cleaned = '1234567890'"
      ],
      "execution_count": null,
      "outputs": []
    },
    {
      "cell_type": "code",
      "metadata": {
        "colab": {
          "base_uri": "https://localhost:8080/"
        },
        "id": "m-QjxdN68gjW",
        "outputId": "a5962ccb-3400-4a85-d1d6-7cbc3f46d261"
      },
      "source": [
        "m = re.match(pattern='\\d\\d\\d\\d\\d\\d\\d\\d\\d\\d', string=NCD_your_col_name_cleaned)\n",
        "\n",
        "print(type(m))"
      ],
      "execution_count": null,
      "outputs": [
        {
          "output_type": "stream",
          "text": [
            "<class 're.Match'>\n"
          ],
          "name": "stdout"
        }
      ]
    },
    {
      "cell_type": "code",
      "metadata": {
        "colab": {
          "base_uri": "https://localhost:8080/"
        },
        "id": "qANDGiW78p1v",
        "outputId": "d6ba2b58-0fe6-4dff-c3de-fec93458bd55"
      },
      "source": [
        "print(m)"
      ],
      "execution_count": null,
      "outputs": [
        {
          "output_type": "stream",
          "text": [
            "<re.Match object; span=(0, 10), match='1234567890'>\n"
          ],
          "name": "stdout"
        }
      ]
    },
    {
      "cell_type": "code",
      "metadata": {
        "id": "d8YEOCzmABqM"
      },
      "source": [
        "def your_col_name_cleaned(data):\n",
        "  \n",
        "#  yeilds cleaned date and creates new date column to use for time series plotting\n",
        "  \n",
        "    \n",
        "    dates = []\n",
        "    times = []\n",
        "    i = 0\n",
        "    while i <= len(data)-1:\n",
        "        time_split = re.split('{ |=|T|-', data['date'][i])\n",
        "        date_split = re.split('{ |=|T',data['date'][i])\n",
        "        dates.append(date_split[1])\n",
        "        times.append(time_split[-2])\n",
        "        i +=1\n",
        "    df['time'] = times\n",
        "    df['date'] = dates\n",
        "\n"
      ],
      "execution_count": null,
      "outputs": []
    },
    {
      "cell_type": "code",
      "metadata": {
        "colab": {
          "base_uri": "https://localhost:8080/",
          "height": 341
        },
        "id": "Jc9CRNM4Eu0Q",
        "outputId": "ec9b1a4d-dd57-4613-fafa-bafd9161bf1b"
      },
      "source": [
        "df.head()"
      ],
      "execution_count": null,
      "outputs": [
        {
          "output_type": "execute_result",
          "data": {
            "text/html": [
              "<div>\n",
              "<style scoped>\n",
              "    .dataframe tbody tr th:only-of-type {\n",
              "        vertical-align: middle;\n",
              "    }\n",
              "\n",
              "    .dataframe tbody tr th {\n",
              "        vertical-align: top;\n",
              "    }\n",
              "\n",
              "    .dataframe thead th {\n",
              "        text-align: right;\n",
              "    }\n",
              "</style>\n",
              "<table border=\"1\" class=\"dataframe\">\n",
              "  <thead>\n",
              "    <tr style=\"text-align: right;\">\n",
              "      <th></th>\n",
              "      <th>Unnamed: 0</th>\n",
              "      <th>Utilization Type</th>\n",
              "      <th>State</th>\n",
              "      <th>Labeler Code</th>\n",
              "      <th>Product Code</th>\n",
              "      <th>Package Size</th>\n",
              "      <th>Year</th>\n",
              "      <th>Quarter</th>\n",
              "      <th>Product Name</th>\n",
              "      <th>Units Reimbursed</th>\n",
              "      <th>Suppression Used</th>\n",
              "      <th>Number of Prescriptions</th>\n",
              "      <th>Total Amount Reimbursed</th>\n",
              "      <th>Medicaid Amount Reimbursed</th>\n",
              "      <th>Non Medicaid Amount Reimbursed</th>\n",
              "      <th>Quarter Begin</th>\n",
              "      <th>Quarter Begin Date</th>\n",
              "      <th>Latitude</th>\n",
              "      <th>Longitude</th>\n",
              "      <th>Location</th>\n",
              "      <th>NDC</th>\n",
              "    </tr>\n",
              "  </thead>\n",
              "  <tbody>\n",
              "    <tr>\n",
              "      <th>0</th>\n",
              "      <td>128037</td>\n",
              "      <td>MCOU</td>\n",
              "      <td>MA</td>\n",
              "      <td>37205</td>\n",
              "      <td>137</td>\n",
              "      <td>5</td>\n",
              "      <td>2010</td>\n",
              "      <td>4</td>\n",
              "      <td>ARTIFICIAL</td>\n",
              "      <td>15.000</td>\n",
              "      <td>False</td>\n",
              "      <td>1</td>\n",
              "      <td>4.08</td>\n",
              "      <td>4.08</td>\n",
              "      <td>0.0</td>\n",
              "      <td>10/1</td>\n",
              "      <td>10/01/2010</td>\n",
              "      <td>31.1801</td>\n",
              "      <td>-91.8749</td>\n",
              "      <td>(31.1801, -91.8749)</td>\n",
              "      <td>37205013705</td>\n",
              "    </tr>\n",
              "    <tr>\n",
              "      <th>1</th>\n",
              "      <td>491755</td>\n",
              "      <td>FFSU</td>\n",
              "      <td>FL</td>\n",
              "      <td>62756</td>\n",
              "      <td>763</td>\n",
              "      <td>88</td>\n",
              "      <td>2010</td>\n",
              "      <td>1</td>\n",
              "      <td>TORSEMIDE</td>\n",
              "      <td>255.000</td>\n",
              "      <td>False</td>\n",
              "      <td>8</td>\n",
              "      <td>103.33</td>\n",
              "      <td>103.33</td>\n",
              "      <td>0.0</td>\n",
              "      <td>1/1</td>\n",
              "      <td>01/01/2010</td>\n",
              "      <td>39.3498</td>\n",
              "      <td>-75.5148</td>\n",
              "      <td>(39.3498, -75.5148)</td>\n",
              "      <td>62756076388</td>\n",
              "    </tr>\n",
              "    <tr>\n",
              "      <th>2</th>\n",
              "      <td>2568076</td>\n",
              "      <td>FFSU</td>\n",
              "      <td>UT</td>\n",
              "      <td>46987</td>\n",
              "      <td>323</td>\n",
              "      <td>11</td>\n",
              "      <td>2010</td>\n",
              "      <td>2</td>\n",
              "      <td>Kadian Ora</td>\n",
              "      <td>120.000</td>\n",
              "      <td>False</td>\n",
              "      <td>2</td>\n",
              "      <td>905.24</td>\n",
              "      <td>905.24</td>\n",
              "      <td>0.0</td>\n",
              "      <td>4/1</td>\n",
              "      <td>04/01/2010</td>\n",
              "      <td>44.2853</td>\n",
              "      <td>-99.4632</td>\n",
              "      <td>(44.2853, -99.4632)</td>\n",
              "      <td>46987032311</td>\n",
              "    </tr>\n",
              "    <tr>\n",
              "      <th>3</th>\n",
              "      <td>491263</td>\n",
              "      <td>FFSU</td>\n",
              "      <td>MN</td>\n",
              "      <td>781</td>\n",
              "      <td>5185</td>\n",
              "      <td>1</td>\n",
              "      <td>2010</td>\n",
              "      <td>4</td>\n",
              "      <td>LEVOTHYROX</td>\n",
              "      <td>1114.000</td>\n",
              "      <td>False</td>\n",
              "      <td>34</td>\n",
              "      <td>312.22</td>\n",
              "      <td>306.22</td>\n",
              "      <td>6.0</td>\n",
              "      <td>10/1</td>\n",
              "      <td>10/01/2010</td>\n",
              "      <td>43.3504</td>\n",
              "      <td>-84.5603</td>\n",
              "      <td>(43.3504, -84.5603)</td>\n",
              "      <td>781518501</td>\n",
              "    </tr>\n",
              "    <tr>\n",
              "      <th>4</th>\n",
              "      <td>836489</td>\n",
              "      <td>FFSU</td>\n",
              "      <td>XX</td>\n",
              "      <td>51552</td>\n",
              "      <td>809</td>\n",
              "      <td>6</td>\n",
              "      <td>2010</td>\n",
              "      <td>2</td>\n",
              "      <td>COLD CREAM</td>\n",
              "      <td>226.089</td>\n",
              "      <td>False</td>\n",
              "      <td>7</td>\n",
              "      <td>52.87</td>\n",
              "      <td>52.87</td>\n",
              "      <td>0.0</td>\n",
              "      <td>4/1</td>\n",
              "      <td>04/01/2010</td>\n",
              "      <td>NaN</td>\n",
              "      <td>NaN</td>\n",
              "      <td>NaN</td>\n",
              "      <td>51552080906</td>\n",
              "    </tr>\n",
              "  </tbody>\n",
              "</table>\n",
              "</div>"
            ],
            "text/plain": [
              "   Unnamed: 0 Utilization Type  ...             Location          NDC\n",
              "0      128037             MCOU  ...  (31.1801, -91.8749)  37205013705\n",
              "1      491755             FFSU  ...  (39.3498, -75.5148)  62756076388\n",
              "2     2568076             FFSU  ...  (44.2853, -99.4632)  46987032311\n",
              "3      491263             FFSU  ...  (43.3504, -84.5603)    781518501\n",
              "4      836489             FFSU  ...                  NaN  51552080906\n",
              "\n",
              "[5 rows x 21 columns]"
            ]
          },
          "metadata": {
            "tags": []
          },
          "execution_count": 19
        }
      ]
    },
    {
      "cell_type": "code",
      "metadata": {
        "colab": {
          "base_uri": "https://localhost:8080/"
        },
        "id": "otMyzAZhxsgB",
        "outputId": "33758723-4f58-49dc-c548-d37672126357"
      },
      "source": [
        "import statistics\n",
        "\n",
        "statistics.mean([4.08,103.33,905.24,312.22,52.87])\n"
      ],
      "execution_count": 4,
      "outputs": [
        {
          "output_type": "execute_result",
          "data": {
            "text/plain": [
              "275.548"
            ]
          },
          "metadata": {
            "tags": []
          },
          "execution_count": 4
        }
      ]
    },
    {
      "cell_type": "code",
      "metadata": {
        "colab": {
          "base_uri": "https://localhost:8080/"
        },
        "id": "W2XdEetry3m_",
        "outputId": "e026aaad-61a0-4f16-ca49-aaf0f5faccdb"
      },
      "source": [
        "import statistics\n",
        "\n",
        "statistics.median([4.08,103.33,905.24,312.22,52.87])"
      ],
      "execution_count": 5,
      "outputs": [
        {
          "output_type": "execute_result",
          "data": {
            "text/plain": [
              "103.33"
            ]
          },
          "metadata": {
            "tags": []
          },
          "execution_count": 5
        }
      ]
    },
    {
      "cell_type": "code",
      "metadata": {
        "colab": {
          "base_uri": "https://localhost:8080/",
          "height": 313
        },
        "id": "toCf1Ga6zGfQ",
        "outputId": "c0a4448a-8f35-4383-ef22-f332eb53e143"
      },
      "source": [
        "import statistics\n",
        "\n",
        "statistics.mode([4.08,103.33,905.24,312.22,52.87])\n"
      ],
      "execution_count": 7,
      "outputs": [
        {
          "output_type": "error",
          "ename": "StatisticsError",
          "evalue": "ignored",
          "traceback": [
            "\u001b[0;31m---------------------------------------------------------------------------\u001b[0m",
            "\u001b[0;31mStatisticsError\u001b[0m                           Traceback (most recent call last)",
            "\u001b[0;32m<ipython-input-7-35dd6e7198d7>\u001b[0m in \u001b[0;36m<module>\u001b[0;34m()\u001b[0m\n\u001b[1;32m      1\u001b[0m \u001b[0;32mimport\u001b[0m \u001b[0mstatistics\u001b[0m\u001b[0;34m\u001b[0m\u001b[0;34m\u001b[0m\u001b[0m\n\u001b[1;32m      2\u001b[0m \u001b[0;34m\u001b[0m\u001b[0m\n\u001b[0;32m----> 3\u001b[0;31m \u001b[0mstatistics\u001b[0m\u001b[0;34m.\u001b[0m\u001b[0mmode\u001b[0m\u001b[0;34m(\u001b[0m\u001b[0;34m[\u001b[0m\u001b[0;36m4.08\u001b[0m\u001b[0;34m,\u001b[0m\u001b[0;36m103.33\u001b[0m\u001b[0;34m,\u001b[0m\u001b[0;36m905.24\u001b[0m\u001b[0;34m,\u001b[0m\u001b[0;36m312.22\u001b[0m\u001b[0;34m,\u001b[0m\u001b[0;36m52.87\u001b[0m\u001b[0;34m]\u001b[0m\u001b[0;34m)\u001b[0m\u001b[0;34m\u001b[0m\u001b[0;34m\u001b[0m\u001b[0m\n\u001b[0m",
            "\u001b[0;32m/usr/lib/python3.7/statistics.py\u001b[0m in \u001b[0;36mmode\u001b[0;34m(data)\u001b[0m\n\u001b[1;32m    504\u001b[0m     \u001b[0;32melif\u001b[0m \u001b[0mtable\u001b[0m\u001b[0;34m:\u001b[0m\u001b[0;34m\u001b[0m\u001b[0;34m\u001b[0m\u001b[0m\n\u001b[1;32m    505\u001b[0m         raise StatisticsError(\n\u001b[0;32m--> 506\u001b[0;31m                 \u001b[0;34m'no unique mode; found %d equally common values'\u001b[0m \u001b[0;34m%\u001b[0m \u001b[0mlen\u001b[0m\u001b[0;34m(\u001b[0m\u001b[0mtable\u001b[0m\u001b[0;34m)\u001b[0m\u001b[0;34m\u001b[0m\u001b[0;34m\u001b[0m\u001b[0m\n\u001b[0m\u001b[1;32m    507\u001b[0m                 )\n\u001b[1;32m    508\u001b[0m     \u001b[0;32melse\u001b[0m\u001b[0;34m:\u001b[0m\u001b[0;34m\u001b[0m\u001b[0;34m\u001b[0m\u001b[0m\n",
            "\u001b[0;31mStatisticsError\u001b[0m: no unique mode; found 5 equally common values"
          ]
        }
      ]
    }
  ]
}